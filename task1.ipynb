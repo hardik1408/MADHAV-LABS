{
  "nbformat": 4,
  "nbformat_minor": 0,
  "metadata": {
    "colab": {
      "provenance": [],
      "authorship_tag": "ABX9TyPXq+o6xDmimLl+qJUlw1yS",
      "include_colab_link": true
    },
    "kernelspec": {
      "name": "python3",
      "display_name": "Python 3"
    },
    "language_info": {
      "name": "python"
    }
  },
  "cells": [
    {
      "cell_type": "markdown",
      "metadata": {
        "id": "view-in-github",
        "colab_type": "text"
      },
      "source": [
        "<a href=\"https://colab.research.google.com/github/hardik1408/MADHAV-LABS/blob/main/task1.ipynb\" target=\"_parent\"><img src=\"https://colab.research.google.com/assets/colab-badge.svg\" alt=\"Open In Colab\"/></a>"
      ]
    },
    {
      "cell_type": "code",
      "execution_count": 1,
      "metadata": {
        "colab": {
          "base_uri": "https://localhost:8080/"
        },
        "id": "eY-Y3gro88bI",
        "outputId": "b924a0bf-9d77-4289-cfac-560111f6b890"
      },
      "outputs": [
        {
          "output_type": "stream",
          "name": "stdout",
          "text": [
            "--2024-02-06 05:47:31--  https://zenodo.org/records/3685367/files/TinySOL.tar.gz\n",
            "Resolving zenodo.org (zenodo.org)... 188.184.98.238, 188.185.79.172, 188.184.103.159, ...\n",
            "Connecting to zenodo.org (zenodo.org)|188.184.98.238|:443... connected.\n",
            "HTTP request sent, awaiting response... 200 OK\n",
            "Length: 1026917185 (979M) [application/octet-stream]\n",
            "Saving to: ‘TinySOL.tar.gz’\n",
            "\n",
            "TinySOL.tar.gz      100%[===================>] 979.34M  28.8MB/s    in 37s     \n",
            "\n",
            "2024-02-06 05:48:10 (26.3 MB/s) - ‘TinySOL.tar.gz’ saved [1026917185/1026917185]\n",
            "\n",
            "--2024-02-06 05:48:10--  https://zenodo.org/records/3685367/files/TinySOL_metadata.csv\n",
            "Resolving zenodo.org (zenodo.org)... 188.184.103.159, 188.184.98.238, 188.185.79.172, ...\n",
            "Connecting to zenodo.org (zenodo.org)|188.184.103.159|:443... connected.\n",
            "HTTP request sent, awaiting response... 200 OK\n",
            "Length: 317576 (310K) [text/plain]\n",
            "Saving to: ‘TinySOL_metadata.csv’\n",
            "\n",
            "TinySOL_metadata.cs 100%[===================>] 310.13K   794KB/s    in 0.4s    \n",
            "\n",
            "2024-02-06 05:48:11 (794 KB/s) - ‘TinySOL_metadata.csv’ saved [317576/317576]\n",
            "\n",
            "Archive:  TinySOL.tar.gz\n",
            "  End-of-central-directory signature not found.  Either this file is not\n",
            "  a zipfile, or it constitutes one disk of a multi-part archive.  In the\n",
            "  latter case the central directory and zipfile comment will be found on\n",
            "  the last disk(s) of this archive.\n",
            "unzip:  cannot find zipfile directory in one of TinySOL.tar.gz or\n",
            "        TinySOL.tar.gz.zip, and cannot find TinySOL.tar.gz.ZIP, period.\n"
          ]
        }
      ],
      "source": [
        "!wget https://zenodo.org/records/3685367/files/TinySOL.tar.gz\n",
        "!wget https://zenodo.org/records/3685367/files/TinySOL_metadata.csv\n"
      ]
    },
    {
      "cell_type": "code",
      "source": [
        "import tarfile"
      ],
      "metadata": {
        "id": "r1QKkKzO9NVK"
      },
      "execution_count": 3,
      "outputs": []
    },
    {
      "cell_type": "code",
      "source": [
        "\n",
        "!pip install librosa"
      ],
      "metadata": {
        "colab": {
          "base_uri": "https://localhost:8080/"
        },
        "id": "DGdnv0gMBTlx",
        "outputId": "1f04c301-2d38-4e49-ad4a-6c49a86b5d14"
      },
      "execution_count": 11,
      "outputs": [
        {
          "output_type": "stream",
          "name": "stdout",
          "text": [
            "Requirement already satisfied: librosa in /usr/local/lib/python3.10/dist-packages (0.10.1)\n",
            "Requirement already satisfied: audioread>=2.1.9 in /usr/local/lib/python3.10/dist-packages (from librosa) (3.0.1)\n",
            "Requirement already satisfied: numpy!=1.22.0,!=1.22.1,!=1.22.2,>=1.20.3 in /usr/local/lib/python3.10/dist-packages (from librosa) (1.23.5)\n",
            "Requirement already satisfied: scipy>=1.2.0 in /usr/local/lib/python3.10/dist-packages (from librosa) (1.11.4)\n",
            "Requirement already satisfied: scikit-learn>=0.20.0 in /usr/local/lib/python3.10/dist-packages (from librosa) (1.2.2)\n",
            "Requirement already satisfied: joblib>=0.14 in /usr/local/lib/python3.10/dist-packages (from librosa) (1.3.2)\n",
            "Requirement already satisfied: decorator>=4.3.0 in /usr/local/lib/python3.10/dist-packages (from librosa) (4.4.2)\n",
            "Requirement already satisfied: numba>=0.51.0 in /usr/local/lib/python3.10/dist-packages (from librosa) (0.58.1)\n",
            "Requirement already satisfied: soundfile>=0.12.1 in /usr/local/lib/python3.10/dist-packages (from librosa) (0.12.1)\n",
            "Requirement already satisfied: pooch>=1.0 in /usr/local/lib/python3.10/dist-packages (from librosa) (1.8.0)\n",
            "Requirement already satisfied: soxr>=0.3.2 in /usr/local/lib/python3.10/dist-packages (from librosa) (0.3.7)\n",
            "Requirement already satisfied: typing-extensions>=4.1.1 in /usr/local/lib/python3.10/dist-packages (from librosa) (4.5.0)\n",
            "Requirement already satisfied: lazy-loader>=0.1 in /usr/local/lib/python3.10/dist-packages (from librosa) (0.3)\n",
            "Requirement already satisfied: msgpack>=1.0 in /usr/local/lib/python3.10/dist-packages (from librosa) (1.0.7)\n",
            "Requirement already satisfied: llvmlite<0.42,>=0.41.0dev0 in /usr/local/lib/python3.10/dist-packages (from numba>=0.51.0->librosa) (0.41.1)\n",
            "Requirement already satisfied: platformdirs>=2.5.0 in /usr/local/lib/python3.10/dist-packages (from pooch>=1.0->librosa) (4.2.0)\n",
            "Requirement already satisfied: packaging>=20.0 in /usr/local/lib/python3.10/dist-packages (from pooch>=1.0->librosa) (23.2)\n",
            "Requirement already satisfied: requests>=2.19.0 in /usr/local/lib/python3.10/dist-packages (from pooch>=1.0->librosa) (2.31.0)\n",
            "Requirement already satisfied: threadpoolctl>=2.0.0 in /usr/local/lib/python3.10/dist-packages (from scikit-learn>=0.20.0->librosa) (3.2.0)\n",
            "Requirement already satisfied: cffi>=1.0 in /usr/local/lib/python3.10/dist-packages (from soundfile>=0.12.1->librosa) (1.16.0)\n",
            "Requirement already satisfied: pycparser in /usr/local/lib/python3.10/dist-packages (from cffi>=1.0->soundfile>=0.12.1->librosa) (2.21)\n",
            "Requirement already satisfied: charset-normalizer<4,>=2 in /usr/local/lib/python3.10/dist-packages (from requests>=2.19.0->pooch>=1.0->librosa) (3.3.2)\n",
            "Requirement already satisfied: idna<4,>=2.5 in /usr/local/lib/python3.10/dist-packages (from requests>=2.19.0->pooch>=1.0->librosa) (3.6)\n",
            "Requirement already satisfied: urllib3<3,>=1.21.1 in /usr/local/lib/python3.10/dist-packages (from requests>=2.19.0->pooch>=1.0->librosa) (2.0.7)\n",
            "Requirement already satisfied: certifi>=2017.4.17 in /usr/local/lib/python3.10/dist-packages (from requests>=2.19.0->pooch>=1.0->librosa) (2023.11.17)\n"
          ]
        }
      ]
    },
    {
      "cell_type": "code",
      "source": [
        "\n",
        "import librosa\n",
        "import librosa.display\n",
        "import matplotlib.pyplot as plt\n",
        "import os\n",
        "import numpy as np\n",
        "import IPython.display as ipd\n",
        "from sklearn.preprocessing import LabelEncoder\n",
        "from keras.utils import to_categorical\n",
        "import sklearn"
      ],
      "metadata": {
        "id": "W4JA0n6rBWlh"
      },
      "execution_count": 12,
      "outputs": []
    },
    {
      "cell_type": "code",
      "source": [
        "file_path = '/content/TinySOL.tar.gz'\n",
        "\n",
        "# Specify the destination directory where you want to extract the contents\n",
        "extract_path = '/content'\n",
        "\n",
        "# Open the tar.gz file and extract its contents\n",
        "with tarfile.open(file_path, 'r:gz') as tar:\n",
        "    tar.extractall(extract_path)"
      ],
      "metadata": {
        "id": "g5NAtVyh-z9d"
      },
      "execution_count": 4,
      "outputs": []
    },
    {
      "cell_type": "code",
      "source": [
        "import pandas as pd\n",
        "\n",
        "# Replace 'your_file.csv' with the actual name of your CSV file\n",
        "file_path = '/content/TinySOL_metadata.csv'\n",
        "\n",
        "# Load the CSV file into a Pandas DataFrame\n",
        "df = pd.read_csv(file_path)"
      ],
      "metadata": {
        "id": "Ij1gL2BJAqHO"
      },
      "execution_count": 5,
      "outputs": []
    },
    {
      "cell_type": "code",
      "source": [
        "df.head()"
      ],
      "metadata": {
        "colab": {
          "base_uri": "https://localhost:8080/",
          "height": 310
        },
        "id": "UggBI9SjA2Sx",
        "outputId": "051b36b7-bb7c-493a-fbdc-bf4777e0c99b"
      },
      "execution_count": 6,
      "outputs": [
        {
          "output_type": "execute_result",
          "data": {
            "text/plain": [
              "                                                Path  Fold Family  \\\n",
              "0   Brass/Bass_Tuba/ordinario/BTb-ord-F#1-pp-N-N.wav     2  Brass   \n",
              "1  Brass/Bass_Tuba/ordinario/BTb-ord-G1-pp-N-R100...     4  Brass   \n",
              "2  Brass/Bass_Tuba/ordinario/BTb-ord-G#1-pp-N-T16...     3  Brass   \n",
              "3  Brass/Bass_Tuba/ordinario/BTb-ord-A1-pp-N-T23d...     2  Brass   \n",
              "4   Brass/Bass_Tuba/ordinario/BTb-ord-A#1-pp-N-N.wav     0  Brass   \n",
              "\n",
              "  Instrument (abbr.) Instrument (in full) Technique (abbr.)  \\\n",
              "0                BTb            Bass Tuba               ord   \n",
              "1                BTb            Bass Tuba               ord   \n",
              "2                BTb            Bass Tuba               ord   \n",
              "3                BTb            Bass Tuba               ord   \n",
              "4                BTb            Bass Tuba               ord   \n",
              "\n",
              "  Technique (in full) Pitch  Pitch ID Dynamics  Dynamics ID  Instance ID  \\\n",
              "0           ordinario   F#1        30       pp            0            0   \n",
              "1           ordinario    G1        31       pp            0            0   \n",
              "2           ordinario   G#1        32       pp            0            0   \n",
              "3           ordinario    A1        33       pp            0            0   \n",
              "4           ordinario   A#1        34       pp            0            0   \n",
              "\n",
              "   String ID (if applicable)  Needed digital retuning  \n",
              "0                        NaN                    False  \n",
              "1                        NaN                     True  \n",
              "2                        NaN                     True  \n",
              "3                        NaN                     True  \n",
              "4                        NaN                    False  "
            ],
            "text/html": [
              "\n",
              "  <div id=\"df-8640f30d-a315-4947-bfc4-2aca7f2c9236\" class=\"colab-df-container\">\n",
              "    <div>\n",
              "<style scoped>\n",
              "    .dataframe tbody tr th:only-of-type {\n",
              "        vertical-align: middle;\n",
              "    }\n",
              "\n",
              "    .dataframe tbody tr th {\n",
              "        vertical-align: top;\n",
              "    }\n",
              "\n",
              "    .dataframe thead th {\n",
              "        text-align: right;\n",
              "    }\n",
              "</style>\n",
              "<table border=\"1\" class=\"dataframe\">\n",
              "  <thead>\n",
              "    <tr style=\"text-align: right;\">\n",
              "      <th></th>\n",
              "      <th>Path</th>\n",
              "      <th>Fold</th>\n",
              "      <th>Family</th>\n",
              "      <th>Instrument (abbr.)</th>\n",
              "      <th>Instrument (in full)</th>\n",
              "      <th>Technique (abbr.)</th>\n",
              "      <th>Technique (in full)</th>\n",
              "      <th>Pitch</th>\n",
              "      <th>Pitch ID</th>\n",
              "      <th>Dynamics</th>\n",
              "      <th>Dynamics ID</th>\n",
              "      <th>Instance ID</th>\n",
              "      <th>String ID (if applicable)</th>\n",
              "      <th>Needed digital retuning</th>\n",
              "    </tr>\n",
              "  </thead>\n",
              "  <tbody>\n",
              "    <tr>\n",
              "      <th>0</th>\n",
              "      <td>Brass/Bass_Tuba/ordinario/BTb-ord-F#1-pp-N-N.wav</td>\n",
              "      <td>2</td>\n",
              "      <td>Brass</td>\n",
              "      <td>BTb</td>\n",
              "      <td>Bass Tuba</td>\n",
              "      <td>ord</td>\n",
              "      <td>ordinario</td>\n",
              "      <td>F#1</td>\n",
              "      <td>30</td>\n",
              "      <td>pp</td>\n",
              "      <td>0</td>\n",
              "      <td>0</td>\n",
              "      <td>NaN</td>\n",
              "      <td>False</td>\n",
              "    </tr>\n",
              "    <tr>\n",
              "      <th>1</th>\n",
              "      <td>Brass/Bass_Tuba/ordinario/BTb-ord-G1-pp-N-R100...</td>\n",
              "      <td>4</td>\n",
              "      <td>Brass</td>\n",
              "      <td>BTb</td>\n",
              "      <td>Bass Tuba</td>\n",
              "      <td>ord</td>\n",
              "      <td>ordinario</td>\n",
              "      <td>G1</td>\n",
              "      <td>31</td>\n",
              "      <td>pp</td>\n",
              "      <td>0</td>\n",
              "      <td>0</td>\n",
              "      <td>NaN</td>\n",
              "      <td>True</td>\n",
              "    </tr>\n",
              "    <tr>\n",
              "      <th>2</th>\n",
              "      <td>Brass/Bass_Tuba/ordinario/BTb-ord-G#1-pp-N-T16...</td>\n",
              "      <td>3</td>\n",
              "      <td>Brass</td>\n",
              "      <td>BTb</td>\n",
              "      <td>Bass Tuba</td>\n",
              "      <td>ord</td>\n",
              "      <td>ordinario</td>\n",
              "      <td>G#1</td>\n",
              "      <td>32</td>\n",
              "      <td>pp</td>\n",
              "      <td>0</td>\n",
              "      <td>0</td>\n",
              "      <td>NaN</td>\n",
              "      <td>True</td>\n",
              "    </tr>\n",
              "    <tr>\n",
              "      <th>3</th>\n",
              "      <td>Brass/Bass_Tuba/ordinario/BTb-ord-A1-pp-N-T23d...</td>\n",
              "      <td>2</td>\n",
              "      <td>Brass</td>\n",
              "      <td>BTb</td>\n",
              "      <td>Bass Tuba</td>\n",
              "      <td>ord</td>\n",
              "      <td>ordinario</td>\n",
              "      <td>A1</td>\n",
              "      <td>33</td>\n",
              "      <td>pp</td>\n",
              "      <td>0</td>\n",
              "      <td>0</td>\n",
              "      <td>NaN</td>\n",
              "      <td>True</td>\n",
              "    </tr>\n",
              "    <tr>\n",
              "      <th>4</th>\n",
              "      <td>Brass/Bass_Tuba/ordinario/BTb-ord-A#1-pp-N-N.wav</td>\n",
              "      <td>0</td>\n",
              "      <td>Brass</td>\n",
              "      <td>BTb</td>\n",
              "      <td>Bass Tuba</td>\n",
              "      <td>ord</td>\n",
              "      <td>ordinario</td>\n",
              "      <td>A#1</td>\n",
              "      <td>34</td>\n",
              "      <td>pp</td>\n",
              "      <td>0</td>\n",
              "      <td>0</td>\n",
              "      <td>NaN</td>\n",
              "      <td>False</td>\n",
              "    </tr>\n",
              "  </tbody>\n",
              "</table>\n",
              "</div>\n",
              "    <div class=\"colab-df-buttons\">\n",
              "\n",
              "  <div class=\"colab-df-container\">\n",
              "    <button class=\"colab-df-convert\" onclick=\"convertToInteractive('df-8640f30d-a315-4947-bfc4-2aca7f2c9236')\"\n",
              "            title=\"Convert this dataframe to an interactive table.\"\n",
              "            style=\"display:none;\">\n",
              "\n",
              "  <svg xmlns=\"http://www.w3.org/2000/svg\" height=\"24px\" viewBox=\"0 -960 960 960\">\n",
              "    <path d=\"M120-120v-720h720v720H120Zm60-500h600v-160H180v160Zm220 220h160v-160H400v160Zm0 220h160v-160H400v160ZM180-400h160v-160H180v160Zm440 0h160v-160H620v160ZM180-180h160v-160H180v160Zm440 0h160v-160H620v160Z\"/>\n",
              "  </svg>\n",
              "    </button>\n",
              "\n",
              "  <style>\n",
              "    .colab-df-container {\n",
              "      display:flex;\n",
              "      gap: 12px;\n",
              "    }\n",
              "\n",
              "    .colab-df-convert {\n",
              "      background-color: #E8F0FE;\n",
              "      border: none;\n",
              "      border-radius: 50%;\n",
              "      cursor: pointer;\n",
              "      display: none;\n",
              "      fill: #1967D2;\n",
              "      height: 32px;\n",
              "      padding: 0 0 0 0;\n",
              "      width: 32px;\n",
              "    }\n",
              "\n",
              "    .colab-df-convert:hover {\n",
              "      background-color: #E2EBFA;\n",
              "      box-shadow: 0px 1px 2px rgba(60, 64, 67, 0.3), 0px 1px 3px 1px rgba(60, 64, 67, 0.15);\n",
              "      fill: #174EA6;\n",
              "    }\n",
              "\n",
              "    .colab-df-buttons div {\n",
              "      margin-bottom: 4px;\n",
              "    }\n",
              "\n",
              "    [theme=dark] .colab-df-convert {\n",
              "      background-color: #3B4455;\n",
              "      fill: #D2E3FC;\n",
              "    }\n",
              "\n",
              "    [theme=dark] .colab-df-convert:hover {\n",
              "      background-color: #434B5C;\n",
              "      box-shadow: 0px 1px 3px 1px rgba(0, 0, 0, 0.15);\n",
              "      filter: drop-shadow(0px 1px 2px rgba(0, 0, 0, 0.3));\n",
              "      fill: #FFFFFF;\n",
              "    }\n",
              "  </style>\n",
              "\n",
              "    <script>\n",
              "      const buttonEl =\n",
              "        document.querySelector('#df-8640f30d-a315-4947-bfc4-2aca7f2c9236 button.colab-df-convert');\n",
              "      buttonEl.style.display =\n",
              "        google.colab.kernel.accessAllowed ? 'block' : 'none';\n",
              "\n",
              "      async function convertToInteractive(key) {\n",
              "        const element = document.querySelector('#df-8640f30d-a315-4947-bfc4-2aca7f2c9236');\n",
              "        const dataTable =\n",
              "          await google.colab.kernel.invokeFunction('convertToInteractive',\n",
              "                                                    [key], {});\n",
              "        if (!dataTable) return;\n",
              "\n",
              "        const docLinkHtml = 'Like what you see? Visit the ' +\n",
              "          '<a target=\"_blank\" href=https://colab.research.google.com/notebooks/data_table.ipynb>data table notebook</a>'\n",
              "          + ' to learn more about interactive tables.';\n",
              "        element.innerHTML = '';\n",
              "        dataTable['output_type'] = 'display_data';\n",
              "        await google.colab.output.renderOutput(dataTable, element);\n",
              "        const docLink = document.createElement('div');\n",
              "        docLink.innerHTML = docLinkHtml;\n",
              "        element.appendChild(docLink);\n",
              "      }\n",
              "    </script>\n",
              "  </div>\n",
              "\n",
              "\n",
              "<div id=\"df-432f076d-19d8-4c0c-890c-6165d7f3bde1\">\n",
              "  <button class=\"colab-df-quickchart\" onclick=\"quickchart('df-432f076d-19d8-4c0c-890c-6165d7f3bde1')\"\n",
              "            title=\"Suggest charts\"\n",
              "            style=\"display:none;\">\n",
              "\n",
              "<svg xmlns=\"http://www.w3.org/2000/svg\" height=\"24px\"viewBox=\"0 0 24 24\"\n",
              "     width=\"24px\">\n",
              "    <g>\n",
              "        <path d=\"M19 3H5c-1.1 0-2 .9-2 2v14c0 1.1.9 2 2 2h14c1.1 0 2-.9 2-2V5c0-1.1-.9-2-2-2zM9 17H7v-7h2v7zm4 0h-2V7h2v10zm4 0h-2v-4h2v4z\"/>\n",
              "    </g>\n",
              "</svg>\n",
              "  </button>\n",
              "\n",
              "<style>\n",
              "  .colab-df-quickchart {\n",
              "      --bg-color: #E8F0FE;\n",
              "      --fill-color: #1967D2;\n",
              "      --hover-bg-color: #E2EBFA;\n",
              "      --hover-fill-color: #174EA6;\n",
              "      --disabled-fill-color: #AAA;\n",
              "      --disabled-bg-color: #DDD;\n",
              "  }\n",
              "\n",
              "  [theme=dark] .colab-df-quickchart {\n",
              "      --bg-color: #3B4455;\n",
              "      --fill-color: #D2E3FC;\n",
              "      --hover-bg-color: #434B5C;\n",
              "      --hover-fill-color: #FFFFFF;\n",
              "      --disabled-bg-color: #3B4455;\n",
              "      --disabled-fill-color: #666;\n",
              "  }\n",
              "\n",
              "  .colab-df-quickchart {\n",
              "    background-color: var(--bg-color);\n",
              "    border: none;\n",
              "    border-radius: 50%;\n",
              "    cursor: pointer;\n",
              "    display: none;\n",
              "    fill: var(--fill-color);\n",
              "    height: 32px;\n",
              "    padding: 0;\n",
              "    width: 32px;\n",
              "  }\n",
              "\n",
              "  .colab-df-quickchart:hover {\n",
              "    background-color: var(--hover-bg-color);\n",
              "    box-shadow: 0 1px 2px rgba(60, 64, 67, 0.3), 0 1px 3px 1px rgba(60, 64, 67, 0.15);\n",
              "    fill: var(--button-hover-fill-color);\n",
              "  }\n",
              "\n",
              "  .colab-df-quickchart-complete:disabled,\n",
              "  .colab-df-quickchart-complete:disabled:hover {\n",
              "    background-color: var(--disabled-bg-color);\n",
              "    fill: var(--disabled-fill-color);\n",
              "    box-shadow: none;\n",
              "  }\n",
              "\n",
              "  .colab-df-spinner {\n",
              "    border: 2px solid var(--fill-color);\n",
              "    border-color: transparent;\n",
              "    border-bottom-color: var(--fill-color);\n",
              "    animation:\n",
              "      spin 1s steps(1) infinite;\n",
              "  }\n",
              "\n",
              "  @keyframes spin {\n",
              "    0% {\n",
              "      border-color: transparent;\n",
              "      border-bottom-color: var(--fill-color);\n",
              "      border-left-color: var(--fill-color);\n",
              "    }\n",
              "    20% {\n",
              "      border-color: transparent;\n",
              "      border-left-color: var(--fill-color);\n",
              "      border-top-color: var(--fill-color);\n",
              "    }\n",
              "    30% {\n",
              "      border-color: transparent;\n",
              "      border-left-color: var(--fill-color);\n",
              "      border-top-color: var(--fill-color);\n",
              "      border-right-color: var(--fill-color);\n",
              "    }\n",
              "    40% {\n",
              "      border-color: transparent;\n",
              "      border-right-color: var(--fill-color);\n",
              "      border-top-color: var(--fill-color);\n",
              "    }\n",
              "    60% {\n",
              "      border-color: transparent;\n",
              "      border-right-color: var(--fill-color);\n",
              "    }\n",
              "    80% {\n",
              "      border-color: transparent;\n",
              "      border-right-color: var(--fill-color);\n",
              "      border-bottom-color: var(--fill-color);\n",
              "    }\n",
              "    90% {\n",
              "      border-color: transparent;\n",
              "      border-bottom-color: var(--fill-color);\n",
              "    }\n",
              "  }\n",
              "</style>\n",
              "\n",
              "  <script>\n",
              "    async function quickchart(key) {\n",
              "      const quickchartButtonEl =\n",
              "        document.querySelector('#' + key + ' button');\n",
              "      quickchartButtonEl.disabled = true;  // To prevent multiple clicks.\n",
              "      quickchartButtonEl.classList.add('colab-df-spinner');\n",
              "      try {\n",
              "        const charts = await google.colab.kernel.invokeFunction(\n",
              "            'suggestCharts', [key], {});\n",
              "      } catch (error) {\n",
              "        console.error('Error during call to suggestCharts:', error);\n",
              "      }\n",
              "      quickchartButtonEl.classList.remove('colab-df-spinner');\n",
              "      quickchartButtonEl.classList.add('colab-df-quickchart-complete');\n",
              "    }\n",
              "    (() => {\n",
              "      let quickchartButtonEl =\n",
              "        document.querySelector('#df-432f076d-19d8-4c0c-890c-6165d7f3bde1 button');\n",
              "      quickchartButtonEl.style.display =\n",
              "        google.colab.kernel.accessAllowed ? 'block' : 'none';\n",
              "    })();\n",
              "  </script>\n",
              "</div>\n",
              "\n",
              "    </div>\n",
              "  </div>\n"
            ]
          },
          "metadata": {},
          "execution_count": 6
        }
      ]
    },
    {
      "cell_type": "code",
      "source": [
        "len(df['Path'])"
      ],
      "metadata": {
        "colab": {
          "base_uri": "https://localhost:8080/"
        },
        "id": "uPOXQXdvA4bu",
        "outputId": "fa01ae02-caa6-4a0b-cd13-7b61d3913e81"
      },
      "execution_count": 13,
      "outputs": [
        {
          "output_type": "execute_result",
          "data": {
            "text/plain": [
              "2913"
            ]
          },
          "metadata": {},
          "execution_count": 13
        }
      ]
    },
    {
      "cell_type": "code",
      "source": [
        "def mfccs_features_extractor(file):\n",
        "  audio, sample_rate = librosa.load(file)\n",
        "  mfccs = librosa.feature.mfcc(y=audio, sr=sample_rate,n_mfcc= 40);\n",
        "  mfccs_scaled_features = np.mean(mfccs.T, axis=0)\n",
        "\n",
        "  return mfccs_scaled_features"
      ],
      "metadata": {
        "id": "MwLXx1rcBJcA"
      },
      "execution_count": 10,
      "outputs": []
    },
    {
      "cell_type": "code",
      "source": [
        "# List to store extracted features\n",
        "extracted_features = []\n",
        "inst_name= []\n",
        "# Loop through each file\n",
        "for i in range(2913):\n",
        "  inst_name.append(df['Instrument (in full)'][i])\n",
        "  file_name= '/content/' + df['Path'][i]\n",
        "  extracted_features.append(mfccs_features_extractor(file_name))"
      ],
      "metadata": {
        "id": "WYeJGbCgBs0A"
      },
      "execution_count": 14,
      "outputs": []
    },
    {
      "cell_type": "code",
      "source": [
        "features_df = pd.DataFrame({'class': inst_name, 'features': extracted_features})"
      ],
      "metadata": {
        "id": "7TZAFSEQC-Cq"
      },
      "execution_count": 16,
      "outputs": []
    },
    {
      "cell_type": "code",
      "source": [
        "X=np.array(features_df['features'].tolist())\n",
        "y=np.array(features_df['class'].tolist())\n",
        "le=LabelEncoder()\n",
        "ti=le.fit_transform(y)\n",
        "y=to_categorical(ti)"
      ],
      "metadata": {
        "id": "JFHHfRR-DY00"
      },
      "execution_count": 17,
      "outputs": []
    },
    {
      "cell_type": "code",
      "source": [
        "# Encoding the classes\n",
        "\n",
        "originallabels=le.classes_\n",
        "print(\"Original labels: \", originallabels)\n",
        "print(\"Encoded labels: \", np.unique(ti))"
      ],
      "metadata": {
        "colab": {
          "base_uri": "https://localhost:8080/"
        },
        "id": "LZK010D7DjDG",
        "outputId": "ddf25505-6f74-4b46-a1c9-71f9d2b8081f"
      },
      "execution_count": 18,
      "outputs": [
        {
          "output_type": "stream",
          "name": "stdout",
          "text": [
            "Original labels:  ['Accordion' 'Alto Saxophone' 'Bass Tuba' 'Bassoon' 'Cello'\n",
            " 'Clarinet in Bb' 'Contrabass' 'Flute' 'French Horn' 'Oboe' 'Trombone'\n",
            " 'Trumpet in C' 'Viola' 'Violin']\n",
            "Encoded labels:  [ 0  1  2  3  4  5  6  7  8  9 10 11 12 13]\n"
          ]
        }
      ]
    },
    {
      "cell_type": "code",
      "source": [
        "# Splitting the dataset into train and test\n",
        "\n",
        "from sklearn.model_selection import train_test_split\n",
        "X_train,X_test,y_train,y_test=train_test_split(X,y,test_size=0.2,random_state=127)\n",
        ""
      ],
      "metadata": {
        "id": "vIG-UgAYDleZ"
      },
      "execution_count": 19,
      "outputs": []
    },
    {
      "cell_type": "code",
      "source": [
        "X_train_flat = np.array([x.flatten() for x in X_train])\n",
        "X_test_flat = np.array([x.flatten() for x in X_train])"
      ],
      "metadata": {
        "id": "X7ziuzxfDuII"
      },
      "execution_count": 20,
      "outputs": []
    },
    {
      "cell_type": "code",
      "source": [
        "X_train_flat"
      ],
      "metadata": {
        "colab": {
          "base_uri": "https://localhost:8080/"
        },
        "id": "QjmntasqEJNK",
        "outputId": "43396ec4-67a5-440a-9bad-7a1cd6c7e5f3"
      },
      "execution_count": 30,
      "outputs": [
        {
          "output_type": "execute_result",
          "data": {
            "text/plain": [
              "array([[-549.4563   ,    5.0285707,  -13.947794 , ...,   -5.318942 ,\n",
              "          17.268082 ,   38.473454 ],\n",
              "       [-560.7889   ,   86.058495 ,   -7.537057 , ...,    6.315191 ,\n",
              "          -2.937526 ,   -9.077227 ],\n",
              "       [-735.6785   ,   43.11193  ,  -12.538934 , ...,  -17.094145 ,\n",
              "          21.44201  ,   10.351549 ],\n",
              "       ...,\n",
              "       [-733.28     ,   12.70858  ,   -5.497362 , ...,   -1.2634788,\n",
              "          24.121836 ,   -1.5230322],\n",
              "       [-691.7369   ,  159.53209  ,   80.08078  , ...,   47.177986 ,\n",
              "          32.845997 ,   12.9170065],\n",
              "       [-564.0639   ,  258.73044  ,   29.321585 , ...,   -1.2253263,\n",
              "          -2.3293302,   -2.0929234]], dtype=float32)"
            ]
          },
          "metadata": {},
          "execution_count": 30
        }
      ]
    },
    {
      "cell_type": "code",
      "source": [
        "from tensorflow.keras import layers,models\n",
        "model = models.Sequential()\n",
        "model.add(layers.Conv1D(32, kernel_size=5, activation='relu', input_shape=(X_train_flat.shape[1], 1)))\n",
        "model.add(layers.MaxPooling1D(pool_size=1))\n",
        "model.add(layers.Conv1D(64, kernel_size=5, activation='relu'))\n",
        "model.add(layers.MaxPooling1D(pool_size=1))\n",
        "model.add(layers.Flatten())\n",
        "model.add(layers.Dense(128, activation='relu'))\n",
        "model.add(layers.Dropout(0.5))\n",
        "model.add(layers.Dense(14, activation='softmax'))\n",
        "model.compile(optimizer='adam',\n",
        "              loss='categorical_crossentropy',\n",
        "              metrics=['accuracy'])\n",
        ""
      ],
      "metadata": {
        "id": "rCzTXJiKDv5u"
      },
      "execution_count": 32,
      "outputs": []
    },
    {
      "cell_type": "code",
      "source": [
        "\n",
        "model.summary()"
      ],
      "metadata": {
        "colab": {
          "base_uri": "https://localhost:8080/"
        },
        "id": "mAo-TTwzDxx0",
        "outputId": "a7b5980d-6ae7-40df-815d-f70df2141254"
      },
      "execution_count": 33,
      "outputs": [
        {
          "output_type": "stream",
          "name": "stdout",
          "text": [
            "Model: \"sequential_1\"\n",
            "_________________________________________________________________\n",
            " Layer (type)                Output Shape              Param #   \n",
            "=================================================================\n",
            " conv1d_2 (Conv1D)           (None, 36, 32)            192       \n",
            "                                                                 \n",
            " max_pooling1d_2 (MaxPoolin  (None, 36, 32)            0         \n",
            " g1D)                                                            \n",
            "                                                                 \n",
            " conv1d_3 (Conv1D)           (None, 32, 64)            10304     \n",
            "                                                                 \n",
            " max_pooling1d_3 (MaxPoolin  (None, 32, 64)            0         \n",
            " g1D)                                                            \n",
            "                                                                 \n",
            " flatten_1 (Flatten)         (None, 2048)              0         \n",
            "                                                                 \n",
            " dense_2 (Dense)             (None, 128)               262272    \n",
            "                                                                 \n",
            " dropout_1 (Dropout)         (None, 128)               0         \n",
            "                                                                 \n",
            " dense_3 (Dense)             (None, 14)                1806      \n",
            "                                                                 \n",
            "=================================================================\n",
            "Total params: 274574 (1.05 MB)\n",
            "Trainable params: 274574 (1.05 MB)\n",
            "Non-trainable params: 0 (0.00 Byte)\n",
            "_________________________________________________________________\n"
          ]
        }
      ]
    },
    {
      "cell_type": "code",
      "source": [
        "model.compile(loss='categorical_crossentropy',metrics=['accuracy'],optimizer='Adam')"
      ],
      "metadata": {
        "id": "6PiF8UCsDzfj"
      },
      "execution_count": 34,
      "outputs": []
    },
    {
      "cell_type": "code",
      "source": [
        "from keras.callbacks import ModelCheckpoint\n",
        "from datetime import datetime\n",
        "num_epochs = 30\n",
        "num_batch_size = 4\n",
        "checkpointer = ModelCheckpoint(filepath='saved_model.hdf5',verbose=1,save_best_only=True)\n",
        "start = datetime.now()\n",
        "model.fit(X_train, y_train, batch_size=num_batch_size, epochs=num_epochs, validation_data=(X_test, y_test),  verbose=1,callbacks=[checkpointer])\n",
        "duration = datetime.now() - start\n",
        "print(\"Training completed in time: \", duration)\n",
        ""
      ],
      "metadata": {
        "colab": {
          "base_uri": "https://localhost:8080/"
        },
        "id": "hybDJnLMD2Lc",
        "outputId": "16cc0910-d09a-4cef-aad7-577851e3ceba"
      },
      "execution_count": 36,
      "outputs": [
        {
          "output_type": "stream",
          "name": "stdout",
          "text": [
            "Epoch 1/30\n",
            "583/583 [==============================] - ETA: 0s - loss: 0.5288 - accuracy: 0.8275\n",
            "Epoch 1: val_loss improved from inf to 0.19353, saving model to saved_model.hdf5\n",
            "583/583 [==============================] - 5s 9ms/step - loss: 0.5288 - accuracy: 0.8275 - val_loss: 0.1935 - val_accuracy: 0.9348\n",
            "Epoch 2/30\n",
            " 18/583 [..............................] - ETA: 3s - loss: 0.2400 - accuracy: 0.9306"
          ]
        },
        {
          "output_type": "stream",
          "name": "stderr",
          "text": [
            "/usr/local/lib/python3.10/dist-packages/keras/src/engine/training.py:3103: UserWarning: You are saving your model as an HDF5 file via `model.save()`. This file format is considered legacy. We recommend using instead the native Keras format, e.g. `model.save('my_model.keras')`.\n",
            "  saving_api.save_model(\n"
          ]
        },
        {
          "output_type": "stream",
          "name": "stdout",
          "text": [
            "576/583 [============================>.] - ETA: 0s - loss: 0.3320 - accuracy: 0.8824\n",
            "Epoch 2: val_loss improved from 0.19353 to 0.14210, saving model to saved_model.hdf5\n",
            "583/583 [==============================] - 4s 6ms/step - loss: 0.3330 - accuracy: 0.8820 - val_loss: 0.1421 - val_accuracy: 0.9503\n",
            "Epoch 3/30\n",
            "581/583 [============================>.] - ETA: 0s - loss: 0.2436 - accuracy: 0.9204\n",
            "Epoch 3: val_loss improved from 0.14210 to 0.11453, saving model to saved_model.hdf5\n",
            "583/583 [==============================] - 4s 6ms/step - loss: 0.2430 - accuracy: 0.9206 - val_loss: 0.1145 - val_accuracy: 0.9640\n",
            "Epoch 4/30\n",
            "579/583 [============================>.] - ETA: 0s - loss: 0.1884 - accuracy: 0.9361\n",
            "Epoch 4: val_loss improved from 0.11453 to 0.11175, saving model to saved_model.hdf5\n",
            "583/583 [==============================] - 5s 8ms/step - loss: 0.1891 - accuracy: 0.9361 - val_loss: 0.1117 - val_accuracy: 0.9691\n",
            "Epoch 5/30\n",
            "581/583 [============================>.] - ETA: 0s - loss: 0.1636 - accuracy: 0.9445\n",
            "Epoch 5: val_loss did not improve from 0.11175\n",
            "583/583 [==============================] - 4s 6ms/step - loss: 0.1631 - accuracy: 0.9446 - val_loss: 0.1405 - val_accuracy: 0.9623\n",
            "Epoch 6/30\n",
            "578/583 [============================>.] - ETA: 0s - loss: 0.1358 - accuracy: 0.9602\n",
            "Epoch 6: val_loss did not improve from 0.11175\n",
            "583/583 [==============================] - 4s 6ms/step - loss: 0.1388 - accuracy: 0.9601 - val_loss: 0.1286 - val_accuracy: 0.9588\n",
            "Epoch 7/30\n",
            "578/583 [============================>.] - ETA: 0s - loss: 0.1292 - accuracy: 0.9602\n",
            "Epoch 7: val_loss improved from 0.11175 to 0.08741, saving model to saved_model.hdf5\n",
            "583/583 [==============================] - 5s 8ms/step - loss: 0.1297 - accuracy: 0.9601 - val_loss: 0.0874 - val_accuracy: 0.9691\n",
            "Epoch 8/30\n",
            "574/583 [============================>.] - ETA: 0s - loss: 0.1310 - accuracy: 0.9551\n",
            "Epoch 8: val_loss did not improve from 0.08741\n",
            "583/583 [==============================] - 4s 6ms/step - loss: 0.1349 - accuracy: 0.9549 - val_loss: 0.1114 - val_accuracy: 0.9777\n",
            "Epoch 9/30\n",
            "580/583 [============================>.] - ETA: 0s - loss: 0.1319 - accuracy: 0.9565\n",
            "Epoch 9: val_loss improved from 0.08741 to 0.05610, saving model to saved_model.hdf5\n",
            "583/583 [==============================] - 4s 6ms/step - loss: 0.1314 - accuracy: 0.9567 - val_loss: 0.0561 - val_accuracy: 0.9846\n",
            "Epoch 10/30\n",
            "575/583 [============================>.] - ETA: 0s - loss: 0.0817 - accuracy: 0.9757\n",
            "Epoch 10: val_loss did not improve from 0.05610\n",
            "583/583 [==============================] - 5s 8ms/step - loss: 0.0838 - accuracy: 0.9751 - val_loss: 0.0843 - val_accuracy: 0.9863\n",
            "Epoch 11/30\n",
            "579/583 [============================>.] - ETA: 0s - loss: 0.0904 - accuracy: 0.9741\n",
            "Epoch 11: val_loss did not improve from 0.05610\n",
            "583/583 [==============================] - 4s 8ms/step - loss: 0.0905 - accuracy: 0.9738 - val_loss: 0.1229 - val_accuracy: 0.9726\n",
            "Epoch 12/30\n",
            "578/583 [============================>.] - ETA: 0s - loss: 0.1015 - accuracy: 0.9689\n",
            "Epoch 12: val_loss did not improve from 0.05610\n",
            "583/583 [==============================] - 4s 7ms/step - loss: 0.1010 - accuracy: 0.9691 - val_loss: 0.0842 - val_accuracy: 0.9846\n",
            "Epoch 13/30\n",
            "577/583 [============================>.] - ETA: 0s - loss: 0.0779 - accuracy: 0.9714\n",
            "Epoch 13: val_loss did not improve from 0.05610\n",
            "583/583 [==============================] - 5s 8ms/step - loss: 0.0773 - accuracy: 0.9717 - val_loss: 0.0789 - val_accuracy: 0.9777\n",
            "Epoch 14/30\n",
            "577/583 [============================>.] - ETA: 0s - loss: 0.0732 - accuracy: 0.9792\n",
            "Epoch 14: val_loss did not improve from 0.05610\n",
            "583/583 [==============================] - 4s 7ms/step - loss: 0.0725 - accuracy: 0.9794 - val_loss: 0.1804 - val_accuracy: 0.9605\n",
            "Epoch 15/30\n",
            "579/583 [============================>.] - ETA: 0s - loss: 0.1282 - accuracy: 0.9672\n",
            "Epoch 15: val_loss did not improve from 0.05610\n",
            "583/583 [==============================] - 4s 7ms/step - loss: 0.1278 - accuracy: 0.9674 - val_loss: 0.0825 - val_accuracy: 0.9794\n",
            "Epoch 16/30\n",
            "577/583 [============================>.] - ETA: 0s - loss: 0.0508 - accuracy: 0.9814\n",
            "Epoch 16: val_loss did not improve from 0.05610\n",
            "583/583 [==============================] - 5s 8ms/step - loss: 0.0514 - accuracy: 0.9811 - val_loss: 0.0656 - val_accuracy: 0.9880\n",
            "Epoch 17/30\n",
            "581/583 [============================>.] - ETA: 0s - loss: 0.0786 - accuracy: 0.9776\n",
            "Epoch 17: val_loss did not improve from 0.05610\n",
            "583/583 [==============================] - 4s 7ms/step - loss: 0.0784 - accuracy: 0.9777 - val_loss: 0.0736 - val_accuracy: 0.9846\n",
            "Epoch 18/30\n",
            "576/583 [============================>.] - ETA: 0s - loss: 0.0679 - accuracy: 0.9809\n",
            "Epoch 18: val_loss did not improve from 0.05610\n",
            "583/583 [==============================] - 4s 7ms/step - loss: 0.0672 - accuracy: 0.9811 - val_loss: 0.0624 - val_accuracy: 0.9794\n",
            "Epoch 19/30\n",
            "577/583 [============================>.] - ETA: 0s - loss: 0.0815 - accuracy: 0.9779\n",
            "Epoch 19: val_loss did not improve from 0.05610\n",
            "583/583 [==============================] - 5s 9ms/step - loss: 0.0807 - accuracy: 0.9781 - val_loss: 0.0898 - val_accuracy: 0.9777\n",
            "Epoch 20/30\n",
            "578/583 [============================>.] - ETA: 0s - loss: 0.0687 - accuracy: 0.9762\n",
            "Epoch 20: val_loss did not improve from 0.05610\n",
            "583/583 [==============================] - 4s 7ms/step - loss: 0.0687 - accuracy: 0.9760 - val_loss: 0.1449 - val_accuracy: 0.9811\n",
            "Epoch 21/30\n",
            "580/583 [============================>.] - ETA: 0s - loss: 0.0683 - accuracy: 0.9810\n",
            "Epoch 21: val_loss did not improve from 0.05610\n",
            "583/583 [==============================] - 4s 7ms/step - loss: 0.0681 - accuracy: 0.9811 - val_loss: 0.1175 - val_accuracy: 0.9777\n",
            "Epoch 22/30\n",
            "581/583 [============================>.] - ETA: 0s - loss: 0.0799 - accuracy: 0.9802\n",
            "Epoch 22: val_loss did not improve from 0.05610\n",
            "583/583 [==============================] - 5s 9ms/step - loss: 0.0797 - accuracy: 0.9803 - val_loss: 0.1331 - val_accuracy: 0.9691\n",
            "Epoch 23/30\n",
            "576/583 [============================>.] - ETA: 0s - loss: 0.0539 - accuracy: 0.9844\n",
            "Epoch 23: val_loss did not improve from 0.05610\n",
            "583/583 [==============================] - 4s 7ms/step - loss: 0.0540 - accuracy: 0.9841 - val_loss: 0.1437 - val_accuracy: 0.9760\n",
            "Epoch 24/30\n",
            "582/583 [============================>.] - ETA: 0s - loss: 0.0787 - accuracy: 0.9815\n",
            "Epoch 24: val_loss did not improve from 0.05610\n",
            "583/583 [==============================] - 4s 6ms/step - loss: 0.0786 - accuracy: 0.9815 - val_loss: 0.0855 - val_accuracy: 0.9811\n",
            "Epoch 25/30\n",
            "577/583 [============================>.] - ETA: 0s - loss: 0.0749 - accuracy: 0.9783\n",
            "Epoch 25: val_loss did not improve from 0.05610\n",
            "583/583 [==============================] - 5s 8ms/step - loss: 0.0775 - accuracy: 0.9777 - val_loss: 0.1324 - val_accuracy: 0.9794\n",
            "Epoch 26/30\n",
            "579/583 [============================>.] - ETA: 0s - loss: 0.0527 - accuracy: 0.9849\n",
            "Epoch 26: val_loss did not improve from 0.05610\n",
            "583/583 [==============================] - 4s 7ms/step - loss: 0.0524 - accuracy: 0.9850 - val_loss: 0.1054 - val_accuracy: 0.9828\n",
            "Epoch 27/30\n",
            "580/583 [============================>.] - ETA: 0s - loss: 0.0590 - accuracy: 0.9862\n",
            "Epoch 27: val_loss did not improve from 0.05610\n",
            "583/583 [==============================] - 4s 7ms/step - loss: 0.0588 - accuracy: 0.9863 - val_loss: 0.0793 - val_accuracy: 0.9880\n",
            "Epoch 28/30\n",
            "579/583 [============================>.] - ETA: 0s - loss: 0.0425 - accuracy: 0.9866\n",
            "Epoch 28: val_loss did not improve from 0.05610\n",
            "583/583 [==============================] - 5s 9ms/step - loss: 0.0426 - accuracy: 0.9867 - val_loss: 0.1145 - val_accuracy: 0.9811\n",
            "Epoch 29/30\n",
            "581/583 [============================>.] - ETA: 0s - loss: 0.0428 - accuracy: 0.9892\n",
            "Epoch 29: val_loss did not improve from 0.05610\n",
            "583/583 [==============================] - 4s 7ms/step - loss: 0.0427 - accuracy: 0.9893 - val_loss: 0.1083 - val_accuracy: 0.9828\n",
            "Epoch 30/30\n",
            "576/583 [============================>.] - ETA: 0s - loss: 0.0631 - accuracy: 0.9839\n",
            "Epoch 30: val_loss did not improve from 0.05610\n",
            "583/583 [==============================] - 4s 6ms/step - loss: 0.0624 - accuracy: 0.9841 - val_loss: 0.1325 - val_accuracy: 0.9863\n",
            "Training completed in time:  0:02:21.993607\n"
          ]
        }
      ]
    },
    {
      "cell_type": "code",
      "source": [
        "test_accuracy=model.evaluate(X_test,y_test,verbose=0)\n",
        "print(f\"test set accuracy: {test_accuracy[1] * 100}%\")\n",
        "\n",
        "train_accuracy=model.evaluate(X_train,y_train,verbose=0)\n",
        "print(f\"train set accuracy: {train_accuracy[1] * 100}%\")"
      ],
      "metadata": {
        "colab": {
          "base_uri": "https://localhost:8080/"
        },
        "id": "Fs6dXq6JD5C5",
        "outputId": "58b45695-49bb-4b98-96e9-f2d5bfd2cd5f"
      },
      "execution_count": 37,
      "outputs": [
        {
          "output_type": "stream",
          "name": "stdout",
          "text": [
            "test set accuracy: 98.62778782844543%\n",
            "train set accuracy: 99.95707869529724%\n"
          ]
        }
      ]
    }
  ]
}